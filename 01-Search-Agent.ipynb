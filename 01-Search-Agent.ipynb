{
 "cells": [
  {
   "cell_type": "markdown",
   "metadata": {},
   "source": [
    "# ColumbiaX-01-Search-Agent"
   ]
  },
  {
   "cell_type": "markdown",
   "metadata": {},
   "source": [
    "## Set Up Session"
   ]
  },
  {
   "cell_type": "code",
   "execution_count": 1,
   "metadata": {
    "collapsed": false
   },
   "outputs": [],
   "source": [
    "# System:\n",
    "import sys\n",
    "# Board dimension:\n",
    "from math import sqrt\n",
    "# Data structures:\n",
    "from collections import namedtuple\n",
    "from collections import deque\n",
    "import heapq\n",
    "# Performance stats:\n",
    "import time\n",
    "import resource"
   ]
  },
  {
   "cell_type": "markdown",
   "metadata": {},
   "source": [
    "## Parse Parameters"
   ]
  },
  {
   "cell_type": "code",
   "execution_count": 2,
   "metadata": {
    "collapsed": true
   },
   "outputs": [],
   "source": [
    "# Parse method:\n",
    "board = \"1,2,5,3,4,0,6,7,8\""
   ]
  },
  {
   "cell_type": "code",
   "execution_count": 3,
   "metadata": {
    "collapsed": true
   },
   "outputs": [],
   "source": [
    "# Parse init state:\n",
    "init_state = tuple(\n",
    "    int(x) for x in board.split(\",\")\n",
    ")"
   ]
  },
  {
   "cell_type": "code",
   "execution_count": 4,
   "metadata": {
    "collapsed": false
   },
   "outputs": [],
   "source": [
    "# Set board dimension & goal state:\n",
    "N = int(sqrt(max(init_state)+1))\n",
    "GOAL_STATE = tuple(range(N**2))"
   ]
  },
  {
   "cell_type": "markdown",
   "metadata": {},
   "source": [
    "## Utilities"
   ]
  },
  {
   "cell_type": "code",
   "execution_count": 5,
   "metadata": {
    "collapsed": false
   },
   "outputs": [],
   "source": [
    "# N-puzzle state:\n",
    "NPuzzleState = namedtuple(\n",
    "    'NPuzzleState', \n",
    "    'heuristic_cost, path_to_state, state, cost_of_path, search_depth'\n",
    ")"
   ]
  },
  {
   "cell_type": "code",
   "execution_count": 6,
   "metadata": {
    "collapsed": false
   },
   "outputs": [],
   "source": [
    "# BFS frontier:\n",
    "class BFSFrontier:\n",
    "    def __init__(self):\n",
    "        self._frontier = deque()\n",
    "        self._state_set = set()\n",
    "        \n",
    "    def put(self, state):\n",
    "        self._frontier.appendleft(state)\n",
    "        self._state_set.add(state.state)\n",
    "    \n",
    "    def get(self):\n",
    "        state = self._frontier.pop()\n",
    "        self._state_set.remove(state.state)\n",
    "        return state\n",
    "    \n",
    "    def __contains__(self, state):\n",
    "        return state.state in self._state_set\n",
    "    \n",
    "    def __len__(self):\n",
    "        return len(self._frontier)\n",
    "    \n",
    "    def is_empty(self):\n",
    "        return False if self._frontier else True"
   ]
  },
  {
   "cell_type": "code",
   "execution_count": 7,
   "metadata": {
    "collapsed": true
   },
   "outputs": [],
   "source": [
    "# DFS frontier:\n",
    "class DFSFrontier:\n",
    "    def __init__(self):\n",
    "        self._frontier = deque()\n",
    "        self._state_set = set()\n",
    "        \n",
    "    def put(self, state):\n",
    "        self._frontier.append(state)\n",
    "        self._state_set.add(state.state)\n",
    "        \n",
    "    def get(self):\n",
    "        state = self._frontier.pop()\n",
    "        self._state_set.remove(state.state)\n",
    "        return state\n",
    "    \n",
    "    def __contains__(self, state):\n",
    "        return state.state in self._state_set\n",
    "    \n",
    "    def __len__(self):\n",
    "        return len(self._frontier)\n",
    "    \n",
    "    def is_empty(self):\n",
    "        return False if self._frontier else True"
   ]
  },
  {
   "cell_type": "code",
   "execution_count": 8,
   "metadata": {
    "collapsed": true
   },
   "outputs": [],
   "source": [
    "# A-star frontier:\n",
    "class AStarFrontier:\n",
    "    def __init__(self):\n",
    "        self._frontier = []\n",
    "        self._state_set = set()\n",
    "    \n",
    "    def put(self, state):\n",
    "        heapq.heappush(self._frontier, state)\n",
    "        self._state_set.add(state.state)\n",
    "        \n",
    "    def get(self):\n",
    "        state = heapq.heappop(self._frontier)\n",
    "        self._state_set.remove(state.state)\n",
    "        return state\n",
    "    \n",
    "    def update(self, state):\n",
    "        idx = next(i for i,s in enumerate(self._frontier) if s.state == state.state)\n",
    "        if (state.heuristic_cost < self._frontier[idx].heuristic_cost):\n",
    "            self._frontier[idx] = self._frontier[-1]\n",
    "            self._frontier.pop()\n",
    "            heapq.heapify(self._frontier)\n",
    "            heapq.heappush(self._frontier, state)\n",
    "        \n",
    "    def __contains__(self, state):\n",
    "        return state.state in self._state_set\n",
    "    \n",
    "    def __len__(self):\n",
    "        return len(self._frontier)\n",
    "    \n",
    "    def is_empty(self):\n",
    "        return len(self._frontier) == 0"
   ]
  },
  {
   "cell_type": "code",
   "execution_count": 9,
   "metadata": {
    "collapsed": true
   },
   "outputs": [],
   "source": [
    "def manhattan_distance(board):\n",
    "    \"\"\" Total Manhattan distance between current board and goal board\n",
    "    \n",
    "    \"\"\"\n",
    "    total_manhattan_distance = 0\n",
    "    for cur_board_idx, goal_board_idx in enumerate(board):\n",
    "        if goal_board_idx != 0:\n",
    "            cur_row_idx, cur_col_idx = cur_board_idx//N, cur_board_idx%N\n",
    "            goal_row_idx, goal_col_idx = goal_board_idx//N, goal_board_idx%N\n",
    "            total_manhattan_distance += abs(goal_row_idx-cur_row_idx) + abs(goal_col_idx-cur_col_idx)\n",
    "    return total_manhattan_distance"
   ]
  },
  {
   "cell_type": "code",
   "execution_count": 10,
   "metadata": {
    "collapsed": true
   },
   "outputs": [],
   "source": [
    "def is_goal_state(state):\n",
    "    \"\"\" Whether current state is the goal state\n",
    "    \"\"\"\n",
    "    return state.state == GOAL_STATE"
   ]
  },
  {
   "cell_type": "code",
   "execution_count": 11,
   "metadata": {
    "collapsed": true
   },
   "outputs": [],
   "source": [
    "def generate_neighbors(n_puzzle_state, distance=None):\n",
    "    \"\"\" Generate neighbors for the given n puzzle state\n",
    "    \n",
    "    \"\"\"\n",
    "    # Find the index of blank space:\n",
    "    blank_idx = n_puzzle_state.state.index(0)\n",
    "    row_idx, col_idx = blank_idx//N, blank_idx%N \n",
    "    # Move sequence--in 'Up','Down','Left','Right' order:\n",
    "    moves = [\n",
    "        (0, -1, 0),\n",
    "        (1, 1, 0),\n",
    "        (2, 0, -1),\n",
    "        (3, 0, 1)\n",
    "    ]\n",
    "    # Remove illegal moves:\n",
    "    if row_idx == 0:\n",
    "        del moves[0]\n",
    "    elif row_idx == (N - 1):\n",
    "        del moves[1]\n",
    "    if col_idx == 0:\n",
    "        del moves[-2]\n",
    "    elif col_idx == (N - 1):\n",
    "        del moves[-1]\n",
    "    # Generate neighbors:\n",
    "    for move, row_delta, col_delta in moves:\n",
    "        # New state:\n",
    "        new_state = list(n_puzzle_state.state)\n",
    "        new_blank_idx = (row_idx+row_delta)*N+(col_idx+col_delta)\n",
    "        new_state[blank_idx], new_state[new_blank_idx] = new_state[new_blank_idx], new_state[blank_idx]\n",
    "        new_state = tuple(new_state)\n",
    "        # New path:\n",
    "        new_path_to_state = n_puzzle_state.path_to_state + (move, )\n",
    "        # New path cost:\n",
    "        new_cost_of_path = n_puzzle_state.cost_of_path + 1\n",
    "        # New depth:\n",
    "        new_search_depth = n_puzzle_state.search_depth + 1\n",
    "        \n",
    "        yield NPuzzleState(\n",
    "            heuristic_cost = new_cost_of_path + distance(new_state) if (not distance is None) else 0,\n",
    "            path_to_state = new_path_to_state,\n",
    "            state = tuple(new_state),\n",
    "            cost_of_path = new_cost_of_path,\n",
    "            search_depth = new_search_depth            \n",
    "        )"
   ]
  },
  {
   "cell_type": "code",
   "execution_count": 12,
   "metadata": {
    "collapsed": false
   },
   "outputs": [],
   "source": [
    "def generate_report(goal_state, goal_stats):\n",
    "    \"\"\"\n",
    "    \"\"\"\n",
    "    # Move literals:\n",
    "    moves = ['Up', 'Down', 'Left', 'Right']\n",
    "    # Report:\n",
    "    report = \"\"\"\n",
    "    path_to_goal: {}\n",
    "    cost_of_path: {}\n",
    "    nodes_expanded: {}\n",
    "    fringe_size: {}\n",
    "    max_fringe_size: {}\n",
    "    search_depth: {}\n",
    "    max_search_depth: {}\n",
    "    running_time: {:.8f}\n",
    "    max_ram_usage: {:.8f}\n",
    "    \"\"\".format(\n",
    "        list(moves[idx] for idx in goal_state.path_to_state) if not goal_state is None else None,\n",
    "        goal_state.cost_of_path if not goal_state is None else None,\n",
    "        goal_stats['nodes_expanded'] - 1,\n",
    "        goal_stats['fringe_size'],\n",
    "        goal_stats['max_fringe_size'],\n",
    "        goal_state.search_depth if not goal_state is None else None,\n",
    "        goal_stats['max_search_depth'],\n",
    "        goal_stats['running_time'],\n",
    "        goal_stats['max_ram_usage']        \n",
    "    )\n",
    "    return report"
   ]
  },
  {
   "cell_type": "markdown",
   "metadata": {},
   "source": [
    "## Initialize Problem"
   ]
  },
  {
   "cell_type": "code",
   "execution_count": 13,
   "metadata": {
    "collapsed": false
   },
   "outputs": [],
   "source": [
    "# Init root:\n",
    "root = NPuzzleState(\n",
    "    heuristic_cost = 0 + manhattan_distance(init_state),\n",
    "    path_to_state = (),\n",
    "    state = init_state,\n",
    "    cost_of_path = 0,\n",
    "    search_depth = 0\n",
    ")\n",
    "# Init search stats\n",
    "stats = dict(\n",
    "    nodes_expanded = 0, \n",
    "    fringe_size = 0, \n",
    "    max_fringe_size = 0, \n",
    "    max_search_depth = 0, \n",
    "    running_time = 0.0, \n",
    "    max_ram_usage = 0.0\n",
    ")"
   ]
  },
  {
   "cell_type": "markdown",
   "metadata": {},
   "source": [
    "## BFS"
   ]
  },
  {
   "cell_type": "code",
   "execution_count": 14,
   "metadata": {
    "collapsed": false
   },
   "outputs": [],
   "source": [
    "def bfs_solve(root, stats):\n",
    "    # Init frontier & explored set:\n",
    "    frontier = BFSFrontier()\n",
    "    frontier.put(root)\n",
    "    explored = set()\n",
    "    goal_state = None\n",
    "    \n",
    "    # Start timer:\n",
    "    start_time = time.time()\n",
    "    \n",
    "    # Solve:\n",
    "    while not frontier.is_empty():\n",
    "        state = frontier.get()\n",
    "        explored.add(state.state)\n",
    "        \n",
    "        # Stats: nodes expanded:\n",
    "        stats['nodes_expanded'] += 1                \n",
    "        \n",
    "        if is_goal_state(state):\n",
    "            # Stats: fringe size:\n",
    "            stats['fringe_size'] = len(frontier)\n",
    "            goal_state = state\n",
    "            break\n",
    "\n",
    "        for neighbor in generate_neighbors(state):\n",
    "            if (neighbor not in frontier) and (neighbor.state not in explored):\n",
    "                # Stats: max search depth:\n",
    "                if neighbor.search_depth > stats['max_search_depth']:\n",
    "                    stats['max_search_depth'] = neighbor.search_depth\n",
    "                # Add to frontier:\n",
    "                frontier.put(neighbor)\n",
    "        \n",
    "        # Stats: max fringe size:\n",
    "        if len(frontier) > stats['max_fringe_size']:\n",
    "            stats['max_fringe_size'] = len(frontier)\n",
    "        # Stats: max ram usage:\n",
    "        ram_usage = resource.getrusage(resource.RUSAGE_SELF).ru_maxrss / 1000\n",
    "        if ram_usage > stats['max_ram_usage']:\n",
    "            stats['max_ram_usage'] = ram_usage\n",
    "    \n",
    "    stats['running_time'] = time.time() - start_time\n",
    "    \n",
    "    return (goal_state, stats)"
   ]
  },
  {
   "cell_type": "code",
   "execution_count": 15,
   "metadata": {
    "collapsed": false
   },
   "outputs": [],
   "source": [
    "# Solution:\n",
    "stats = dict(\n",
    "    nodes_expanded = 0, \n",
    "    fringe_size = 0, \n",
    "    max_fringe_size = 0, \n",
    "    max_search_depth = 0, \n",
    "    running_time = 0.0, \n",
    "    max_ram_usage = 0.0\n",
    ")\n",
    "goal_bfs, goal_stats = bfs_solve(root, stats)"
   ]
  },
  {
   "cell_type": "code",
   "execution_count": 16,
   "metadata": {
    "collapsed": false
   },
   "outputs": [
    {
     "name": "stdout",
     "output_type": "stream",
     "text": [
      "\n",
      "    path_to_goal: ['Up', 'Left', 'Left']\n",
      "    cost_of_path: 3\n",
      "    nodes_expanded: 10\n",
      "    fringe_size: 11\n",
      "    max_fringe_size: 12\n",
      "    search_depth: 3\n",
      "    max_search_depth: 4\n",
      "    running_time: 0.00018597\n",
      "    max_ram_usage: 42.62400000\n",
      "    \n"
     ]
    }
   ],
   "source": [
    "# Report:\n",
    "print(\n",
    "    generate_report(goal_bfs, goal_stats)\n",
    ")"
   ]
  },
  {
   "cell_type": "markdown",
   "metadata": {},
   "source": [
    "## DFS:"
   ]
  },
  {
   "cell_type": "code",
   "execution_count": 17,
   "metadata": {
    "collapsed": true
   },
   "outputs": [],
   "source": [
    "def dfs_solve(root, stats):\n",
    "    # Init frontier & explored set:\n",
    "    frontier = DFSFrontier()\n",
    "    frontier.put(root)\n",
    "    explored = set()\n",
    "    goal_state = None\n",
    "    \n",
    "    # Start timer:\n",
    "    start_time = time.time()    \n",
    "    \n",
    "    # Solve:\n",
    "    while not frontier.is_empty():\n",
    "        state = frontier.get()\n",
    "        explored.add(state.state)\n",
    "        # Stats: nodes expanded:\n",
    "        stats['nodes_expanded'] += 1 \n",
    "        \n",
    "        if is_goal_state(state):\n",
    "            # Stats: fringe size:\n",
    "            stats['fringe_size'] = len(frontier)\n",
    "            goal_state = state\n",
    "            break\n",
    "\n",
    "        for neighbor in reversed(\n",
    "            list(\n",
    "                generate_neighbors(state)\n",
    "            )\n",
    "        ):\n",
    "            if (neighbor not in frontier) and (neighbor.state not in explored):\n",
    "                # Stats: max search depth:\n",
    "                if neighbor.search_depth > stats['max_search_depth']:\n",
    "                    stats['max_search_depth'] = neighbor.search_depth\n",
    "                frontier.put(neighbor)\n",
    "                \n",
    "                \n",
    "        # Stats: max fringe size:\n",
    "        if len(frontier) > stats['max_fringe_size']:\n",
    "            stats['max_fringe_size'] = len(frontier)\n",
    "        # Stats: max ram usage:\n",
    "        ram_usage = resource.getrusage(resource.RUSAGE_SELF).ru_maxrss / 1000\n",
    "        if ram_usage > stats['max_ram_usage']:\n",
    "            stats['max_ram_usage'] = ram_usage\n",
    "    \n",
    "    stats['running_time'] = time.time() - start_time\n",
    "    \n",
    "    return (goal_state, stats)"
   ]
  },
  {
   "cell_type": "code",
   "execution_count": 18,
   "metadata": {
    "collapsed": false
   },
   "outputs": [],
   "source": [
    "# Solution:\n",
    "stats = dict(\n",
    "    nodes_expanded = 0, \n",
    "    fringe_size = 0, \n",
    "    max_fringe_size = 0, \n",
    "    max_search_depth = 0, \n",
    "    running_time = 0.0, \n",
    "    max_ram_usage = 0.0\n",
    ")\n",
    "# goal_dfs, goal_stats = dfs_solve(root, stats)"
   ]
  },
  {
   "cell_type": "code",
   "execution_count": 19,
   "metadata": {
    "collapsed": false
   },
   "outputs": [],
   "source": [
    "# Report:\n",
    "# print(\n",
    "#    generate_report(goal_dfs, goal_stats)\n",
    "#)"
   ]
  },
  {
   "cell_type": "markdown",
   "metadata": {},
   "source": [
    "## A-Star"
   ]
  },
  {
   "cell_type": "code",
   "execution_count": 20,
   "metadata": {
    "collapsed": false
   },
   "outputs": [],
   "source": [
    "def a_star_solve(root, stats):\n",
    "    # Init frontier & explored set:\n",
    "    frontier = AStarFrontier()\n",
    "    frontier.put(root)\n",
    "    explored = set()\n",
    "    goal_state = None\n",
    "    \n",
    "    # Start timer:\n",
    "    start_time = time.time()\n",
    "    \n",
    "    # Solve:\n",
    "    while not frontier.is_empty():\n",
    "        state = frontier.get()\n",
    "        explored.add(state.state)\n",
    "        \n",
    "        # Stats: nodes expanded:\n",
    "        stats['nodes_expanded'] += 1                \n",
    "        \n",
    "        if is_goal_state(state):\n",
    "            # Stats: fringe size:\n",
    "            stats['fringe_size'] = len(frontier)\n",
    "            goal_state = state\n",
    "            break\n",
    "\n",
    "        for neighbor in generate_neighbors(state, manhattan_distance):\n",
    "            if (neighbor not in frontier) and (neighbor.state not in explored):\n",
    "                # Stats: max search depth:\n",
    "                if neighbor.search_depth > stats['max_search_depth']:\n",
    "                    stats['max_search_depth'] = neighbor.search_depth\n",
    "                # Add to frontier:\n",
    "                frontier.put(neighbor)\n",
    "            elif (neighbor in frontier):\n",
    "                frontier.update(neighbor)\n",
    "        \n",
    "        # Stats: max fringe size:\n",
    "        if len(frontier) > stats['max_fringe_size']:\n",
    "            stats['max_fringe_size'] = len(frontier)\n",
    "        # Stats: max ram usage:\n",
    "        ram_usage = resource.getrusage(resource.RUSAGE_SELF).ru_maxrss / 1000\n",
    "        if ram_usage > stats['max_ram_usage']:\n",
    "            stats['max_ram_usage'] = ram_usage\n",
    "    \n",
    "    stats['running_time'] = time.time() - start_time\n",
    "    \n",
    "    return (goal_state, stats)"
   ]
  },
  {
   "cell_type": "code",
   "execution_count": 21,
   "metadata": {
    "collapsed": false
   },
   "outputs": [],
   "source": [
    "# Solution:\n",
    "stats = dict(\n",
    "    nodes_expanded = 0, \n",
    "    fringe_size = 0, \n",
    "    max_fringe_size = 0, \n",
    "    max_search_depth = 0, \n",
    "    running_time = 0.0, \n",
    "    max_ram_usage = 0.0\n",
    ")\n",
    "goal_a_star, goal_stats = a_star_solve(root, stats)"
   ]
  },
  {
   "cell_type": "code",
   "execution_count": 22,
   "metadata": {
    "collapsed": false
   },
   "outputs": [
    {
     "name": "stdout",
     "output_type": "stream",
     "text": [
      "\n",
      "    path_to_goal: ['Up', 'Left', 'Left']\n",
      "    cost_of_path: 3\n",
      "    nodes_expanded: 3\n",
      "    fringe_size: 3\n",
      "    max_fringe_size: 4\n",
      "    search_depth: 3\n",
      "    max_search_depth: 3\n",
      "    running_time: 0.00010824\n",
      "    max_ram_usage: 42.86400000\n",
      "    \n"
     ]
    }
   ],
   "source": [
    "# Report:\n",
    "print(\n",
    "    generate_report(goal_a_star, goal_stats)\n",
    ")"
   ]
  },
  {
   "cell_type": "markdown",
   "metadata": {},
   "source": [
    "## IDA-Star"
   ]
  },
  {
   "cell_type": "code",
   "execution_count": 25,
   "metadata": {
    "collapsed": false
   },
   "outputs": [],
   "source": [
    "def ida_star_solve(root, stats):\n",
    "    def do_ida_star_solve(root, bound, stats):\n",
    "        # Init frontier & explored set:\n",
    "        frontier = DFSFrontier()\n",
    "        frontier.put(root)\n",
    "        explored = set()\n",
    "        goal_state = None\n",
    "\n",
    "        # Min cost:\n",
    "        min_cost = sys.maxsize\n",
    "\n",
    "        # Start timer:\n",
    "        start_time = time.time()    \n",
    "\n",
    "        # Solve:\n",
    "        while not frontier.is_empty():\n",
    "            state = frontier.get()\n",
    "            explored.add(state.state)\n",
    "            # Stats: nodes expanded:\n",
    "            stats['nodes_expanded'] += 1 \n",
    "\n",
    "            # If current node exceeds cost limit:\n",
    "            if state.heuristic_cost > bound:\n",
    "                min_cost = state.heuristic_cost\n",
    "                break\n",
    "\n",
    "            if is_goal_state(state):\n",
    "                # Stats: fringe size:\n",
    "                stats['fringe_size'] = len(frontier)\n",
    "                goal_state = state\n",
    "                break\n",
    "\n",
    "            # Update min cost:\n",
    "            if state.heuristic_cost < min_cost:\n",
    "                min_cost = state.heuristic_cost\n",
    "\n",
    "            for neighbor in reversed(\n",
    "                list(\n",
    "                    generate_neighbors(state, manhattan_distance)\n",
    "                )\n",
    "            ):\n",
    "                if (neighbor not in frontier) and (neighbor.state not in explored):\n",
    "                    # Stats: max search depth:\n",
    "                    if neighbor.search_depth > stats['max_search_depth']:\n",
    "                        stats['max_search_depth'] = neighbor.search_depth\n",
    "                    if neighbor.search_depth <= 5:\n",
    "                        frontier.put(neighbor)\n",
    "\n",
    "\n",
    "            # Stats: max fringe size:\n",
    "            if len(frontier) > stats['max_fringe_size']:\n",
    "                stats['max_fringe_size'] = len(frontier)\n",
    "            # Stats: max ram usage:\n",
    "            ram_usage = resource.getrusage(resource.RUSAGE_SELF).ru_maxrss / 1000\n",
    "            if ram_usage > stats['max_ram_usage']:\n",
    "                stats['max_ram_usage'] = ram_usage\n",
    "\n",
    "        stats['running_time'] = time.time() - start_time\n",
    "\n",
    "        return (goal_state, min_cost, stats)\n",
    "    \n",
    "    # Init:\n",
    "    bound = root.heuristic_cost\n",
    "    goal_state = None\n",
    "    \n",
    "    # Iteratively deepen:\n",
    "    while goal_state is None:\n",
    "        goal_state, bound, goal_stats = do_ida_star_solve(\n",
    "            root, \n",
    "            bound,\n",
    "            dict(\n",
    "                nodes_expanded = 0, \n",
    "                fringe_size = 0, \n",
    "                max_fringe_size = 0, \n",
    "                max_search_depth = 0, \n",
    "                running_time = 0.0, \n",
    "                max_ram_usage = 0.0\n",
    "            )\n",
    "        )\n",
    "        print(\"[Deepen]: {}\".format(bound))\n",
    "    \n",
    "    return (goal_state, goal_stats)"
   ]
  },
  {
   "cell_type": "code",
   "execution_count": 26,
   "metadata": {
    "collapsed": false
   },
   "outputs": [
    {
     "name": "stdout",
     "output_type": "stream",
     "text": [
      "[Deepen]: 5\n",
      "[Deepen]: 7\n",
      "[Deepen]: 9\n",
      "[Deepen]: 3\n"
     ]
    }
   ],
   "source": [
    "# Solution:\n",
    "stats = dict(\n",
    "    nodes_expanded = 0, \n",
    "    fringe_size = 0, \n",
    "    max_fringe_size = 0, \n",
    "    max_search_depth = 0, \n",
    "    running_time = 0.0, \n",
    "    max_ram_usage = 0.0\n",
    ")\n",
    "goal_ida_star, goal_stats = ida_star_solve(root, stats)"
   ]
  },
  {
   "cell_type": "code",
   "execution_count": 27,
   "metadata": {
    "collapsed": false
   },
   "outputs": [
    {
     "name": "stdout",
     "output_type": "stream",
     "text": [
      "\n",
      "    path_to_goal: ['Up', 'Left', 'Left']\n",
      "    cost_of_path: 3\n",
      "    nodes_expanded: 13\n",
      "    fringe_size: 2\n",
      "    max_fringe_size: 7\n",
      "    search_depth: 3\n",
      "    max_search_depth: 6\n",
      "    running_time: 0.00120831\n",
      "    max_ram_usage: 43.28800000\n",
      "    \n"
     ]
    }
   ],
   "source": [
    "# Report:\n",
    "print(\n",
    "    generate_report(goal_ida_star, goal_stats)\n",
    ")"
   ]
  }
 ],
 "metadata": {
  "kernelspec": {
   "display_name": "Python 3",
   "language": "python",
   "name": "python3"
  },
  "language_info": {
   "codemirror_mode": {
    "name": "ipython",
    "version": 3
   },
   "file_extension": ".py",
   "mimetype": "text/x-python",
   "name": "python",
   "nbconvert_exporter": "python",
   "pygments_lexer": "ipython3",
   "version": "3.6.0"
  }
 },
 "nbformat": 4,
 "nbformat_minor": 2
}
